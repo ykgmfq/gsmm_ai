{
 "cells": [
  {
   "cell_type": "markdown",
   "metadata": {},
   "source": [
    "# Assessment of Embedded AI Solutions with the Green Software Measurement Model"
   ]
  },
  {
   "cell_type": "code",
   "execution_count": 1,
   "metadata": {},
   "outputs": [],
   "source": [
    "import pandas\n",
    "import seaborn\n",
    "import enum\n",
    "import matplotlib.pyplot as plt"
   ]
  },
  {
   "cell_type": "markdown",
   "metadata": {},
   "source": [
    "Numeric labels and their corresponding names for the dataset"
   ]
  },
  {
   "cell_type": "code",
   "execution_count": 2,
   "metadata": {},
   "outputs": [],
   "source": [
    "class Model(enum.IntEnum):\n",
    "    EfficientNetv2 = 0\n",
    "    YOLOv2 = 1\n",
    "\n",
    "\n",
    "class System(enum.IntEnum):\n",
    "    Coral = 0\n",
    "    Jetson = 1\n",
    "    GeforcePC = 2\n"
   ]
  },
  {
   "cell_type": "markdown",
   "metadata": {},
   "source": [
    "## Dataset loading\n",
    "https://doi.org/10.57967/hf/3477"
   ]
  },
  {
   "cell_type": "code",
   "execution_count": 3,
   "metadata": {},
   "outputs": [
    {
     "data": {
      "text/html": [
       "<div>\n",
       "<style scoped>\n",
       "    .dataframe tbody tr th:only-of-type {\n",
       "        vertical-align: middle;\n",
       "    }\n",
       "\n",
       "    .dataframe tbody tr th {\n",
       "        vertical-align: top;\n",
       "    }\n",
       "\n",
       "    .dataframe thead th {\n",
       "        text-align: right;\n",
       "    }\n",
       "</style>\n",
       "<table border=\"1\" class=\"dataframe\">\n",
       "  <thead>\n",
       "    <tr style=\"text-align: right;\">\n",
       "      <th></th>\n",
       "      <th>Start Time [ns]</th>\n",
       "      <th>End Time [ns]</th>\n",
       "      <th>Power [W]</th>\n",
       "      <th>Voltage [V]</th>\n",
       "      <th>Current [A]</th>\n",
       "      <th>System</th>\n",
       "      <th>Model</th>\n",
       "      <th>Epoch</th>\n",
       "      <th>Chunk Size</th>\n",
       "    </tr>\n",
       "  </thead>\n",
       "  <tbody>\n",
       "    <tr>\n",
       "      <th>count</th>\n",
       "      <td>3.718000e+05</td>\n",
       "      <td>3.718000e+05</td>\n",
       "      <td>371800.000000</td>\n",
       "      <td>371800.000000</td>\n",
       "      <td>371800.000000</td>\n",
       "      <td>371800.000000</td>\n",
       "      <td>371800.000000</td>\n",
       "      <td>371800.000000</td>\n",
       "      <td>371800.000000</td>\n",
       "    </tr>\n",
       "    <tr>\n",
       "      <th>mean</th>\n",
       "      <td>8.051577e+12</td>\n",
       "      <td>8.051812e+12</td>\n",
       "      <td>164.946365</td>\n",
       "      <td>227.129654</td>\n",
       "      <td>0.776008</td>\n",
       "      <td>1.169984</td>\n",
       "      <td>0.538999</td>\n",
       "      <td>634.093868</td>\n",
       "      <td>145.131791</td>\n",
       "    </tr>\n",
       "    <tr>\n",
       "      <th>std</th>\n",
       "      <td>4.875290e+12</td>\n",
       "      <td>4.875309e+12</td>\n",
       "      <td>201.500031</td>\n",
       "      <td>1.115319</td>\n",
       "      <td>0.846497</td>\n",
       "      <td>0.749498</td>\n",
       "      <td>0.498477</td>\n",
       "      <td>1120.579935</td>\n",
       "      <td>170.337430</td>\n",
       "    </tr>\n",
       "    <tr>\n",
       "      <th>min</th>\n",
       "      <td>0.000000e+00</td>\n",
       "      <td>1.771517e+08</td>\n",
       "      <td>5.871600</td>\n",
       "      <td>224.000000</td>\n",
       "      <td>0.061000</td>\n",
       "      <td>0.000000</td>\n",
       "      <td>0.000000</td>\n",
       "      <td>0.000000</td>\n",
       "      <td>25.000000</td>\n",
       "    </tr>\n",
       "    <tr>\n",
       "      <th>50%</th>\n",
       "      <td>7.839012e+12</td>\n",
       "      <td>7.839172e+12</td>\n",
       "      <td>17.018000</td>\n",
       "      <td>227.000000</td>\n",
       "      <td>0.176000</td>\n",
       "      <td>1.000000</td>\n",
       "      <td>1.000000</td>\n",
       "      <td>126.000000</td>\n",
       "      <td>25.000000</td>\n",
       "    </tr>\n",
       "    <tr>\n",
       "      <th>max</th>\n",
       "      <td>1.955678e+13</td>\n",
       "      <td>1.955709e+13</td>\n",
       "      <td>500.691010</td>\n",
       "      <td>230.000000</td>\n",
       "      <td>2.180000</td>\n",
       "      <td>2.000000</td>\n",
       "      <td>1.000000</td>\n",
       "      <td>4499.000000</td>\n",
       "      <td>500.000000</td>\n",
       "    </tr>\n",
       "  </tbody>\n",
       "</table>\n",
       "</div>"
      ],
      "text/plain": [
       "       Start Time [ns]  End Time [ns]      Power [W]    Voltage [V]  \\\n",
       "count     3.718000e+05   3.718000e+05  371800.000000  371800.000000   \n",
       "mean      8.051577e+12   8.051812e+12     164.946365     227.129654   \n",
       "std       4.875290e+12   4.875309e+12     201.500031       1.115319   \n",
       "min       0.000000e+00   1.771517e+08       5.871600     224.000000   \n",
       "50%       7.839012e+12   7.839172e+12      17.018000     227.000000   \n",
       "max       1.955678e+13   1.955709e+13     500.691010     230.000000   \n",
       "\n",
       "         Current [A]         System          Model          Epoch  \\\n",
       "count  371800.000000  371800.000000  371800.000000  371800.000000   \n",
       "mean        0.776008       1.169984       0.538999     634.093868   \n",
       "std         0.846497       0.749498       0.498477    1120.579935   \n",
       "min         0.061000       0.000000       0.000000       0.000000   \n",
       "50%         0.176000       1.000000       1.000000     126.000000   \n",
       "max         2.180000       2.000000       1.000000    4499.000000   \n",
       "\n",
       "          Chunk Size  \n",
       "count  371800.000000  \n",
       "mean      145.131791  \n",
       "std       170.337430  \n",
       "min        25.000000  \n",
       "50%        25.000000  \n",
       "max       500.000000  "
      ]
     },
     "execution_count": 3,
     "metadata": {},
     "output_type": "execute_result"
    }
   ],
   "source": [
    "data = pandas.read_parquet(\"hf://datasets/ykgmfq/gsmm_ai/data.parquet\")\n",
    "data.describe(percentiles=[])"
   ]
  },
  {
   "cell_type": "code",
   "execution_count": 4,
   "metadata": {},
   "outputs": [
    {
     "name": "stdout",
     "output_type": "stream",
     "text": [
      "EfficientNetv2  on Coral     : 48000 data points\n",
      "YOLOv2          on Coral     : 30200 data points\n",
      "EfficientNetv2  on Jetson    : 72000 data points\n",
      "YOLOv2          on Jetson    : 80200 data points\n",
      "EfficientNetv2  on GeforcePC : 51400 data points\n",
      "YOLOv2          on GeforcePC : 90000 data points\n"
     ]
    }
   ],
   "source": [
    "for sys, sysdata in data.groupby(\"System\"):\n",
    "    for model, modeldata in sysdata.groupby(\"Model\"):\n",
    "        print(\n",
    "            f\"{Model(model).name:15} on {System(sys).name:10}: {len(modeldata)} data points\"\n",
    "        )"
   ]
  },
  {
   "cell_type": "markdown",
   "metadata": {},
   "source": [
    "## Data processing"
   ]
  },
  {
   "cell_type": "markdown",
   "metadata": {},
   "source": [
    "### Energy"
   ]
  },
  {
   "cell_type": "code",
   "execution_count": 5,
   "metadata": {},
   "outputs": [
    {
     "data": {
      "text/plain": [
       "count    371800.000000\n",
       "mean         37.293679\n",
       "std          72.741135\n",
       "min           0.000000\n",
       "50%           4.231124\n",
       "max        1282.084522\n",
       "Name: Energy [J], dtype: float64"
      ]
     },
     "execution_count": 5,
     "metadata": {},
     "output_type": "execute_result"
    }
   ],
   "source": [
    "energies = []\n",
    "for _, sysdata in data.groupby(\"System\"):\n",
    "    for _, modeldata in sysdata.groupby(\"Model\"):\n",
    "        # Riemann sum\n",
    "        dt = modeldata[\"Start Time [ns]\"].diff() * 1e-9\n",
    "        dt.iloc[0] = 0\n",
    "        energy = modeldata[\"Power [W]\"] * dt\n",
    "        energies.append(energy)\n",
    "data[\"Energy [J]\"] = pandas.concat(energies)\n",
    "data[\"Energy [J]\"].describe(percentiles=[])"
   ]
  },
  {
   "cell_type": "markdown",
   "metadata": {},
   "source": [
    "### Chunks"
   ]
  },
  {
   "cell_type": "code",
   "execution_count": 6,
   "metadata": {},
   "outputs": [
    {
     "name": "stdout",
     "output_type": "stream",
     "text": [
      "371800 data points\n"
     ]
    }
   ],
   "source": [
    "m_chunks = data[\"Start Time [ns]\"] // (3 * 60 * 1e9)\n",
    "m_chunks = m_chunks.astype(int)\n",
    "m_chunks.describe()\n",
    "data[\"Chunk\"] = m_chunks\n",
    "print(f\"{len(data)} data points\")"
   ]
  },
  {
   "cell_type": "markdown",
   "metadata": {},
   "source": [
    "Strip first and last chunk"
   ]
  },
  {
   "cell_type": "code",
   "execution_count": 7,
   "metadata": {},
   "outputs": [
    {
     "name": "stdout",
     "output_type": "stream",
     "text": [
      "Without first chunk: 367352 data points\n",
      "Without last chunk:  365198 data points\n"
     ]
    }
   ],
   "source": [
    "data = data[data[\"Chunk\"] != 0]\n",
    "print(f\"Without first chunk: {len(data)} data points\")\n",
    "for _, sysdata in data.groupby(\"System\"):\n",
    "    for _, modeldata in sysdata.groupby(\"Model\"):\n",
    "        m_chunks = modeldata[\"Chunk\"]\n",
    "        last = m_chunks[m_chunks == m_chunks.iloc[-1]].index\n",
    "        data = data.drop(last)\n",
    "print(f\"Without last chunk:  {len(data)} data points\")"
   ]
  },
  {
   "cell_type": "markdown",
   "metadata": {},
   "source": [
    "### Extracted data"
   ]
  },
  {
   "cell_type": "code",
   "execution_count": 8,
   "metadata": {},
   "outputs": [
    {
     "data": {
      "text/html": [
       "<div>\n",
       "<style scoped>\n",
       "    .dataframe tbody tr th:only-of-type {\n",
       "        vertical-align: middle;\n",
       "    }\n",
       "\n",
       "    .dataframe tbody tr th {\n",
       "        vertical-align: top;\n",
       "    }\n",
       "\n",
       "    .dataframe thead th {\n",
       "        text-align: right;\n",
       "    }\n",
       "</style>\n",
       "<table border=\"1\" class=\"dataframe\">\n",
       "  <thead>\n",
       "    <tr style=\"text-align: right;\">\n",
       "      <th></th>\n",
       "      <th>System</th>\n",
       "      <th>Model</th>\n",
       "      <th>Chunk</th>\n",
       "      <th>Energy efficiency factor [1/J]</th>\n",
       "    </tr>\n",
       "  </thead>\n",
       "  <tbody>\n",
       "    <tr>\n",
       "      <th>0</th>\n",
       "      <td>Coral</td>\n",
       "      <td>EfficientNetv2</td>\n",
       "      <td>1</td>\n",
       "      <td>9.949974</td>\n",
       "    </tr>\n",
       "    <tr>\n",
       "      <th>1</th>\n",
       "      <td>Coral</td>\n",
       "      <td>EfficientNetv2</td>\n",
       "      <td>2</td>\n",
       "      <td>9.913525</td>\n",
       "    </tr>\n",
       "    <tr>\n",
       "      <th>2</th>\n",
       "      <td>Coral</td>\n",
       "      <td>EfficientNetv2</td>\n",
       "      <td>3</td>\n",
       "      <td>9.904142</td>\n",
       "    </tr>\n",
       "    <tr>\n",
       "      <th>3</th>\n",
       "      <td>Coral</td>\n",
       "      <td>EfficientNetv2</td>\n",
       "      <td>4</td>\n",
       "      <td>9.791521</td>\n",
       "    </tr>\n",
       "    <tr>\n",
       "      <th>4</th>\n",
       "      <td>Coral</td>\n",
       "      <td>EfficientNetv2</td>\n",
       "      <td>5</td>\n",
       "      <td>9.721728</td>\n",
       "    </tr>\n",
       "    <tr>\n",
       "      <th>...</th>\n",
       "      <td>...</td>\n",
       "      <td>...</td>\n",
       "      <td>...</td>\n",
       "      <td>...</td>\n",
       "    </tr>\n",
       "    <tr>\n",
       "      <th>537</th>\n",
       "      <td>GeforcePC</td>\n",
       "      <td>YOLOv2</td>\n",
       "      <td>80</td>\n",
       "      <td>4.374292</td>\n",
       "    </tr>\n",
       "    <tr>\n",
       "      <th>538</th>\n",
       "      <td>GeforcePC</td>\n",
       "      <td>YOLOv2</td>\n",
       "      <td>81</td>\n",
       "      <td>4.490342</td>\n",
       "    </tr>\n",
       "    <tr>\n",
       "      <th>539</th>\n",
       "      <td>GeforcePC</td>\n",
       "      <td>YOLOv2</td>\n",
       "      <td>82</td>\n",
       "      <td>4.384989</td>\n",
       "    </tr>\n",
       "    <tr>\n",
       "      <th>540</th>\n",
       "      <td>GeforcePC</td>\n",
       "      <td>YOLOv2</td>\n",
       "      <td>83</td>\n",
       "      <td>4.357371</td>\n",
       "    </tr>\n",
       "    <tr>\n",
       "      <th>541</th>\n",
       "      <td>GeforcePC</td>\n",
       "      <td>YOLOv2</td>\n",
       "      <td>84</td>\n",
       "      <td>4.410900</td>\n",
       "    </tr>\n",
       "  </tbody>\n",
       "</table>\n",
       "<p>542 rows × 4 columns</p>\n",
       "</div>"
      ],
      "text/plain": [
       "        System           Model  Chunk  Energy efficiency factor [1/J]\n",
       "0        Coral  EfficientNetv2      1                        9.949974\n",
       "1        Coral  EfficientNetv2      2                        9.913525\n",
       "2        Coral  EfficientNetv2      3                        9.904142\n",
       "3        Coral  EfficientNetv2      4                        9.791521\n",
       "4        Coral  EfficientNetv2      5                        9.721728\n",
       "..         ...             ...    ...                             ...\n",
       "537  GeforcePC          YOLOv2     80                        4.374292\n",
       "538  GeforcePC          YOLOv2     81                        4.490342\n",
       "539  GeforcePC          YOLOv2     82                        4.384989\n",
       "540  GeforcePC          YOLOv2     83                        4.357371\n",
       "541  GeforcePC          YOLOv2     84                        4.410900\n",
       "\n",
       "[542 rows x 4 columns]"
      ]
     },
     "execution_count": 8,
     "metadata": {},
     "output_type": "execute_result"
    }
   ],
   "source": [
    "ee_f = []\n",
    "sample_f = []\n",
    "for sys_idx, sysdata in data.groupby(\"System\"):\n",
    "    sysname=System(sys_idx).name\n",
    "    for m_idx, modeldata in sysdata.groupby(\"Model\"):\n",
    "        mname=Model(m_idx).name\n",
    "        for chunk, chunkdata in modeldata.groupby(\"Chunk\"):\n",
    "            # Cumulative samples\n",
    "            samples = chunkdata[\"Chunk Size\"].cumsum().iloc[-1]\n",
    "            # Cumulative energy\n",
    "            acc = chunkdata[\"Energy [J]\"].cumsum().iloc[-1]\n",
    "            # Energy efficiency factor\n",
    "            tot = samples / acc\n",
    "            ee_f.append((sysname, Model(m_idx).name, chunk, tot))\n",
    "            # Cumulative time\n",
    "            start = chunkdata[\"Start Time [ns]\"].min()\n",
    "            end = chunkdata[\"End Time [ns]\"].max()\n",
    "            tt = (end - start) * 1e-9\n",
    "            tt = samples / tt\n",
    "            sample_f.append((sysname, mname, chunk, tt))\n",
    "ee_f = pandas.DataFrame(\n",
    "    ee_f,\n",
    "    columns=[\"System\", \"Model\", \"Chunk\", \"Energy efficiency factor [1/J]\"],\n",
    ")\n",
    "sample_f = pandas.DataFrame(\n",
    "    sample_f,\n",
    "    columns=[\"System\", \"Model\", \"Chunk\", \"Sample factor [1/s]\"],\n",
    ")\n",
    "ee_f"
   ]
  },
  {
   "cell_type": "code",
   "execution_count": 9,
   "metadata": {},
   "outputs": [
    {
     "data": {
      "text/html": [
       "<div>\n",
       "<style scoped>\n",
       "    .dataframe tbody tr th:only-of-type {\n",
       "        vertical-align: middle;\n",
       "    }\n",
       "\n",
       "    .dataframe tbody tr th {\n",
       "        vertical-align: top;\n",
       "    }\n",
       "\n",
       "    .dataframe thead th {\n",
       "        text-align: right;\n",
       "    }\n",
       "</style>\n",
       "<table border=\"1\" class=\"dataframe\">\n",
       "  <thead>\n",
       "    <tr style=\"text-align: right;\">\n",
       "      <th></th>\n",
       "      <th>System</th>\n",
       "      <th>Model</th>\n",
       "      <th>Chunk</th>\n",
       "      <th>Sample factor [1/s]</th>\n",
       "    </tr>\n",
       "  </thead>\n",
       "  <tbody>\n",
       "    <tr>\n",
       "      <th>0</th>\n",
       "      <td>Coral</td>\n",
       "      <td>EfficientNetv2</td>\n",
       "      <td>1</td>\n",
       "      <td>69.760724</td>\n",
       "    </tr>\n",
       "    <tr>\n",
       "      <th>1</th>\n",
       "      <td>Coral</td>\n",
       "      <td>EfficientNetv2</td>\n",
       "      <td>2</td>\n",
       "      <td>70.150104</td>\n",
       "    </tr>\n",
       "    <tr>\n",
       "      <th>2</th>\n",
       "      <td>Coral</td>\n",
       "      <td>EfficientNetv2</td>\n",
       "      <td>3</td>\n",
       "      <td>69.940953</td>\n",
       "    </tr>\n",
       "    <tr>\n",
       "      <th>3</th>\n",
       "      <td>Coral</td>\n",
       "      <td>EfficientNetv2</td>\n",
       "      <td>4</td>\n",
       "      <td>69.561862</td>\n",
       "    </tr>\n",
       "    <tr>\n",
       "      <th>4</th>\n",
       "      <td>Coral</td>\n",
       "      <td>EfficientNetv2</td>\n",
       "      <td>5</td>\n",
       "      <td>69.948916</td>\n",
       "    </tr>\n",
       "    <tr>\n",
       "      <th>...</th>\n",
       "      <td>...</td>\n",
       "      <td>...</td>\n",
       "      <td>...</td>\n",
       "      <td>...</td>\n",
       "    </tr>\n",
       "    <tr>\n",
       "      <th>537</th>\n",
       "      <td>GeforcePC</td>\n",
       "      <td>YOLOv2</td>\n",
       "      <td>80</td>\n",
       "      <td>1430.465202</td>\n",
       "    </tr>\n",
       "    <tr>\n",
       "      <th>538</th>\n",
       "      <td>GeforcePC</td>\n",
       "      <td>YOLOv2</td>\n",
       "      <td>81</td>\n",
       "      <td>1492.804053</td>\n",
       "    </tr>\n",
       "    <tr>\n",
       "      <th>539</th>\n",
       "      <td>GeforcePC</td>\n",
       "      <td>YOLOv2</td>\n",
       "      <td>82</td>\n",
       "      <td>1526.905213</td>\n",
       "    </tr>\n",
       "    <tr>\n",
       "      <th>540</th>\n",
       "      <td>GeforcePC</td>\n",
       "      <td>YOLOv2</td>\n",
       "      <td>83</td>\n",
       "      <td>1484.218901</td>\n",
       "    </tr>\n",
       "    <tr>\n",
       "      <th>541</th>\n",
       "      <td>GeforcePC</td>\n",
       "      <td>YOLOv2</td>\n",
       "      <td>84</td>\n",
       "      <td>1485.826642</td>\n",
       "    </tr>\n",
       "  </tbody>\n",
       "</table>\n",
       "<p>542 rows × 4 columns</p>\n",
       "</div>"
      ],
      "text/plain": [
       "        System           Model  Chunk  Sample factor [1/s]\n",
       "0        Coral  EfficientNetv2      1            69.760724\n",
       "1        Coral  EfficientNetv2      2            70.150104\n",
       "2        Coral  EfficientNetv2      3            69.940953\n",
       "3        Coral  EfficientNetv2      4            69.561862\n",
       "4        Coral  EfficientNetv2      5            69.948916\n",
       "..         ...             ...    ...                  ...\n",
       "537  GeforcePC          YOLOv2     80          1430.465202\n",
       "538  GeforcePC          YOLOv2     81          1492.804053\n",
       "539  GeforcePC          YOLOv2     82          1526.905213\n",
       "540  GeforcePC          YOLOv2     83          1484.218901\n",
       "541  GeforcePC          YOLOv2     84          1485.826642\n",
       "\n",
       "[542 rows x 4 columns]"
      ]
     },
     "execution_count": 9,
     "metadata": {},
     "output_type": "execute_result"
    }
   ],
   "source": [
    "sample_f"
   ]
  },
  {
   "cell_type": "markdown",
   "metadata": {},
   "source": [
    "Mean energy efficiency factor"
   ]
  },
  {
   "cell_type": "code",
   "execution_count": 10,
   "metadata": {},
   "outputs": [
    {
     "name": "stdout",
     "output_type": "stream",
     "text": [
      "EfficientNetv2  on Coral     : 09.63\n",
      "YOLOv2          on Coral     : 06.71\n",
      "EfficientNetv2  on GeforcePC : 03.21\n",
      "YOLOv2          on GeforcePC : 04.37\n",
      "EfficientNetv2  on Jetson    : 05.90\n",
      "YOLOv2          on Jetson    : 11.38\n"
     ]
    }
   ],
   "source": [
    "for sys, sysdata in ee_f.groupby(\"System\"):\n",
    "    for model, modeldata in sysdata.groupby(\"Model\"):\n",
    "        mean=modeldata[\"Energy efficiency factor [1/J]\"].mean()\n",
    "        print(\n",
    "            f\"{model:15} on {sys:10}: {mean:05.2f}\"\n",
    "        )"
   ]
  },
  {
   "cell_type": "markdown",
   "metadata": {},
   "source": [
    "Mean sample factor"
   ]
  },
  {
   "cell_type": "code",
   "execution_count": 11,
   "metadata": {},
   "outputs": [
    {
     "name": "stdout",
     "output_type": "stream",
     "text": [
      "EfficientNetv2  on Coral     : 0069\n",
      "YOLOv2          on Coral     : 0045\n",
      "EfficientNetv2  on GeforcePC : 1315\n",
      "YOLOv2          on GeforcePC : 1468\n",
      "EfficientNetv2  on Jetson    : 0100\n",
      "YOLOv2          on Jetson    : 0166\n"
     ]
    }
   ],
   "source": [
    "for sys, sysdata in sample_f.groupby(\"System\"):\n",
    "    for model, modeldata in sysdata.groupby(\"Model\"):\n",
    "        mean=modeldata[\"Sample factor [1/s]\"].mean()\n",
    "        print(\n",
    "            f\"{model:15} on {sys:10}: {mean:04.0f}\"\n",
    "        )"
   ]
  },
  {
   "cell_type": "markdown",
   "metadata": {},
   "source": [
    "## Plots\n"
   ]
  },
  {
   "cell_type": "markdown",
   "metadata": {},
   "source": [
    "### Energy efficiency factor"
   ]
  },
  {
   "cell_type": "code",
   "execution_count": 12,
   "metadata": {},
   "outputs": [
    {
     "data": {
      "image/png": "[encoded data removed]",
      "text/plain": [
       "<Figure size 611.111x500 with 2 Axes>"
      ]
     },
     "metadata": {},
     "output_type": "display_data"
    }
   ],
   "source": [
    "ax = seaborn.catplot(\n",
    "    ee_f,\n",
    "    kind=\"bar\",\n",
    "    x=\"System\",\n",
    "    y=\"Energy efficiency factor [1/J]\",\n",
    "    col=\"Model\",\n",
    "    aspect=0.6,\n",
    "    color=seaborn.color_palette(\"tab10\")[2]\n",
    ")\n",
    "plt.tight_layout()\n",
    "plt.savefig(\"eef.pdf\")"
   ]
  },
  {
   "cell_type": "markdown",
   "metadata": {},
   "source": [
    "### Sample factor"
   ]
  },
  {
   "cell_type": "code",
   "execution_count": 13,
   "metadata": {},
   "outputs": [
    {
     "data": {
      "image/png": "[encoded data removed]",
      "text/plain": [
       "<Figure size 640x480 with 1 Axes>"
      ]
     },
     "metadata": {},
     "output_type": "display_data"
    }
   ],
   "source": [
    "ax = seaborn.barplot(\n",
    "    sample_f,\n",
    "    x=\"System\",\n",
    "    y=\"Sample factor [1/s]\",\n",
    "    hue=\"Model\",\n",
    ")\n",
    "plt.tight_layout()\n",
    "plt.savefig(\"timef.pdf\")"
   ]
  }
 ],
 "metadata": {
  "kernelspec": {
   "display_name": "Python 3",
   "language": "python",
   "name": "python3"
  },
  "language_info": {
   "codemirror_mode": {
    "name": "ipython",
    "version": 3
   },
   "file_extension": ".py",
   "mimetype": "text/x-python",
   "name": "python",
   "nbconvert_exporter": "python",
   "pygments_lexer": "ipython3",
   "version": "3.12.7"
  }
 },
 "nbformat": 4,
 "nbformat_minor": 2
}
